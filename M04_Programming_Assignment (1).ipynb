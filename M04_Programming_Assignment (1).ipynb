{
 "cells": [
  {
   "cell_type": "code",
   "execution_count": 22,
   "id": "2997ea6f",
   "metadata": {},
   "outputs": [
    {
     "name": "stdout",
     "output_type": "stream",
     "text": [
      "Overwriting zoo.py\n"
     ]
    }
   ],
   "source": [
    "%%writefile zoo.py\n",
    "\n",
    "def hours():\n",
    "    print('Open 9-5 daily')\n"
   ]
  },
  {
   "cell_type": "code",
   "execution_count": 23,
   "id": "4648475d",
   "metadata": {},
   "outputs": [],
   "source": [
    ">>> import zoo"
   ]
  },
  {
   "cell_type": "code",
   "execution_count": 24,
   "id": "4eedb460",
   "metadata": {},
   "outputs": [
    {
     "name": "stdout",
     "output_type": "stream",
     "text": [
      "Open 9-5 daily\n"
     ]
    }
   ],
   "source": [
    ">>> import zoo as menagerie\n",
    ">>> menagerie.hours()"
   ]
  },
  {
   "cell_type": "code",
   "execution_count": 30,
   "id": "5b1610ad",
   "metadata": {},
   "outputs": [],
   "source": [
    "# Cell 1\n",
    "import csv\n",
    "import sqlite3\n",
    "from sqlalchemy import create_engine, Table, MetaData, select, Column, Integer, String"
   ]
  },
  {
   "cell_type": "code",
   "execution_count": 31,
   "id": "8c8e08ef",
   "metadata": {},
   "outputs": [],
   "source": [
    "# Cell 2\n",
    "# Step 16.1: Save the text lines to a CSV file called books.csv\n",
    "lines = [\n",
    "    'author,book',\n",
    "    'J R R Tolkien,The Hobbit',\n",
    "    'Lynne Truss,\"Eats, Shoots & Leaves\"'\n",
    "]\n",
    "\n",
    "with open('books.csv', 'w', newline='') as file:\n",
    "    writer = csv.writer(file)\n",
    "    writer.writerows(csv.reader(lines))"
   ]
  },
  {
   "cell_type": "code",
   "execution_count": 32,
   "id": "d9b5c2c8",
   "metadata": {},
   "outputs": [
    {
     "name": "stdout",
     "output_type": "stream",
     "text": [
      "Step 16.2:\n",
      "[{'author': 'J R R Tolkien', 'book': 'The Hobbit'}, {'author': 'Lynne Truss', 'book': 'Eats, Shoots & Leaves'}]\n"
     ]
    }
   ],
   "source": [
    "# Cell 3\n",
    "# Step 16.2: Use csv module to read books.csv to the variable books\n",
    "with open('books.csv', 'r') as file:\n",
    "    csv_reader = csv.DictReader(file)\n",
    "    books = list(csv_reader)\n",
    "\n",
    "# Print values in books\n",
    "print(\"Step 16.2:\")\n",
    "print(books)"
   ]
  },
  {
   "cell_type": "code",
   "execution_count": 33,
   "id": "90d1cc74",
   "metadata": {},
   "outputs": [],
   "source": [
    "# Cell 4\n",
    "# Step 16.3: Create a CSV file called books2.csv\n",
    "lines_books2 = [\n",
    "    'title,author,year',\n",
    "    'The Weirdstone of Brisingamen,Alan Garner,1960',\n",
    "    'Perdido Street Station,China Miéville,2000',\n",
    "    'Thud!,Terry Pratchett,2005',\n",
    "    'The Spellman Files,Lisa Lutz,2007',\n",
    "    'Small Gods,Terry Pratchett,1992'\n",
    "]\n",
    "\n",
    "with open('books2.csv', 'w', newline='') as file:\n",
    "    writer = csv.writer(file)\n",
    "    writer.writerows(csv.reader(lines_books2))\n"
   ]
  },
  {
   "cell_type": "code",
   "execution_count": 34,
   "id": "4384a45b",
   "metadata": {},
   "outputs": [
    {
     "data": {
      "text/plain": [
       "<sqlite3.Cursor at 0x1d3c9854d40>"
      ]
     },
     "execution_count": 34,
     "metadata": {},
     "output_type": "execute_result"
    }
   ],
   "source": [
    "# Cell 5\n",
    "# Step 16.4: Use sqlite3 module to create a SQLite database called books.db and a table called books\n",
    "conn = sqlite3.connect('books.db')\n",
    "cursor = conn.cursor()\n",
    "\n",
    "cursor.execute('''\n",
    "    CREATE TABLE IF NOT EXISTS books (\n",
    "        title TEXT,\n",
    "        author TEXT,\n",
    "        year INTEGER\n",
    "    )\n",
    "''')\n"
   ]
  },
  {
   "cell_type": "code",
   "execution_count": 35,
   "id": "60db7bf5",
   "metadata": {},
   "outputs": [],
   "source": [
    "# Cell 6\n",
    "# Step 16.5: Read books2.csv and insert its data into the book table\n",
    "with open('books2.csv', 'r') as file:\n",
    "    csv_reader = csv.DictReader(file)\n",
    "    for row in csv_reader:\n",
    "        cursor.execute('INSERT INTO books VALUES (?, ?, ?)', (row['title'], row['author'], row['year']))\n",
    "\n",
    "# Commit and close the connection\n",
    "conn.commit()\n",
    "conn.close()\n"
   ]
  },
  {
   "cell_type": "code",
   "execution_count": 36,
   "id": "1cccaf0e",
   "metadata": {},
   "outputs": [
    {
     "name": "stdout",
     "output_type": "stream",
     "text": [
      "\n",
      "Step 16.6:\n",
      "[('Perdido Street Station',), ('Small Gods',), ('The Spellman Files',), ('The Weirdstone of Brisingamen',), ('Thud!',)]\n"
     ]
    }
   ],
   "source": [
    "# Cell 7\n",
    "# Step 16.6: Select and print the title column from the book table in alphabetical order\n",
    "conn = sqlite3.connect('books.db')\n",
    "cursor = conn.cursor()\n",
    "cursor.execute('SELECT title FROM books ORDER BY title')\n",
    "result_step_6 = cursor.fetchall()\n",
    "\n",
    "print(\"\\nStep 16.6:\")\n",
    "print(result_step_6)\n"
   ]
  },
  {
   "cell_type": "code",
   "execution_count": 37,
   "id": "084fdd97",
   "metadata": {},
   "outputs": [
    {
     "name": "stdout",
     "output_type": "stream",
     "text": [
      "\n",
      "Step 16.7:\n",
      "('The Weirdstone of Brisingamen', 'Alan Garner', 1960)\n",
      "('Small Gods', 'Terry Pratchett', 1992)\n",
      "('Perdido Street Station', 'China Miéville', 2000)\n",
      "('Thud!', 'Terry Pratchett', 2005)\n",
      "('The Spellman Files', 'Lisa Lutz', 2007)\n"
     ]
    }
   ],
   "source": [
    "# Cell 8\n",
    "# Step 16.7: Select and print all columns from the book table in order of publication\n",
    "cursor.execute('SELECT * FROM books ORDER BY year')\n",
    "result_step_7 = cursor.fetchall()\n",
    "\n",
    "print(\"\\nStep 16.7:\")\n",
    "for row in result_step_7:\n",
    "    print(row)\n",
    "\n",
    "# Close the SQLite connection\n",
    "conn.close()\n"
   ]
  },
  {
   "cell_type": "code",
   "execution_count": 38,
   "id": "d843ffae",
   "metadata": {},
   "outputs": [
    {
     "name": "stdout",
     "output_type": "stream",
     "text": [
      "\n",
      "Step 16.8:\n",
      "[('Perdido Street Station',), ('Small Gods',), ('The Spellman Files',), ('The Weirdstone of Brisingamen',), ('Thud!',)]\n"
     ]
    }
   ],
   "source": [
    "# Cell 9\n",
    "# Step 16.8: Use sqlalchemy to connect to the sqlite3 database and select and print the title column\n",
    "engine = create_engine('sqlite:///books.db')\n",
    "metadata = MetaData()\n",
    "\n",
    "# Define the books table\n",
    "books_table = Table('books', metadata,\n",
    "                   Column('title', String),\n",
    "                   Column('author', String),\n",
    "                   Column('year', Integer))\n",
    "\n",
    "# Reflect the table from the database\n",
    "metadata.reflect(bind=engine)\n",
    "\n",
    "# Select and print the title column from the book table in alphabetical order using sqlalchemy\n",
    "stmt = select([books_table.columns.title]).order_by(books_table.columns.title)\n",
    "result_step_8 = engine.execute(stmt).fetchall()\n",
    "\n",
    "print(\"\\nStep 16.8:\")\n",
    "print(result_step_8)\n"
   ]
  }
 ],
 "metadata": {
  "kernelspec": {
   "display_name": "Python 3 (ipykernel)",
   "language": "python",
   "name": "python3"
  },
  "language_info": {
   "codemirror_mode": {
    "name": "ipython",
    "version": 3
   },
   "file_extension": ".py",
   "mimetype": "text/x-python",
   "name": "python",
   "nbconvert_exporter": "python",
   "pygments_lexer": "ipython3",
   "version": "3.11.5"
  }
 },
 "nbformat": 4,
 "nbformat_minor": 5
}
